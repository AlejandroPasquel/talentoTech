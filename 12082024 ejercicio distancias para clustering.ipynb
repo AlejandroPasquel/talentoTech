{
 "cells": [
  {
   "cell_type": "code",
   "execution_count": 4,
   "metadata": {},
   "outputs": [
    {
     "name": "stdout",
     "output_type": "stream",
     "text": [
      "Distancia Hamming entre 'edifisio' y 'edificio': 1\n"
     ]
    }
   ],
   "source": [
    "# distancia de Hamming \n",
    "\n",
    "'''\n",
    "Es empleada para calcular la diferencia entre dos secuencias de\n",
    "igual longitud. Se cuenta el número de posiciones en las cuales\n",
    "los símbolos correspondientes son diferentes. Por ejemplo, para\n",
    "las secuencias x y y, la distancia d se calcula como:\n",
    "'''\n",
    "\n",
    "punto1=[5,2,4]\n",
    "punto2=[6,7,12]\n",
    "\n",
    "def calcular_distancia_hamming(str1, str2): #Definir la funcion que compara a los Strings\n",
    "    if len(str1) != len(str2):\n",
    "        raise ValueError(\"Deben tener la misma extension de caracteres\")\n",
    "    distance = 0\n",
    "    for i in range(len(str1)):\n",
    "        if str1[i] != str2[i]:\n",
    "            distance += 1\n",
    "    return distance\n",
    "# Example usage\n",
    "string1 = \"edifisio\"\n",
    "string2 = \"edificio\"\n",
    "distance = calcular_distancia_hamming(string1, string2)\n",
    "print(f\"Distancia Hamming entre '{string1}' y '{string2}': {distance}\")\n",
    "\n",
    "\n",
    "\n",
    "\n",
    "#En análisis de datos, la distancia de Hamming se puede utilizar como una medida de similitud o disimilitud entre dos objetos cuando\n",
    "#los datos son categóricos o binarios. En el contexto de clustering, , la distancia de Hamming ayuda a agrupar elementos que son similares en términos de sus atributos categóricos.\n",
    "#la distancia de Hamming ayuda a agrupar elementos que son similares en términos de sus atributos categóricos.\n"
   ]
  },
  {
   "cell_type": "code",
   "execution_count": 6,
   "metadata": {},
   "outputs": [
    {
     "name": "stdout",
     "output_type": "stream",
     "text": [
      "Asignaciones de clusters: [1 1 0 0 0]\n",
      "Centroides: None\n"
     ]
    }
   ],
   "source": [
    "import numpy as np \n",
    "from sklearn_extra.cluster import KMedoids\n",
    "from sklearn.metrics import pairwise_distances\n",
    "\n",
    "X = np.array([\n",
    "    [1, 0, 1, 1],  # Cliente 1\n",
    "    [0, 0, 1, 1],  # Cliente 2\n",
    "    [1, 1, 0, 0],  # Cliente 3\n",
    "    [0, 1, 1, 0],  # Cliente 4\n",
    "    [1, 0, 1, 0],  # Cliente 5\n",
    "])\n",
    "\n",
    "#  matriz de distancia usando la distancia de Hamming\n",
    "dist_matrix = pairwise_distances(X, metric='hamming')\n",
    "\n",
    "# K-Medoids con la matriz de distancias\n",
    "kmedoids = KMedoids(n_clusters=2, metric='precomputed', random_state=42)\n",
    "kmedoids.fit(dist_matrix)\n",
    "\n",
    "print(\"Asignaciones de clusters:\", kmedoids.labels_)\n",
    "print(\"Centroides:\", kmedoids.cluster_centers_)"
   ]
  },
  {
   "cell_type": "code",
   "execution_count": 7,
   "metadata": {},
   "outputs": [
    {
     "data": {
      "text/plain": [
       "array([[0.  , 0.25, 0.75, 0.75, 0.25],\n",
       "       [0.25, 0.  , 1.  , 0.5 , 0.5 ],\n",
       "       [0.75, 1.  , 0.  , 0.5 , 0.5 ],\n",
       "       [0.75, 0.5 , 0.5 , 0.  , 0.5 ],\n",
       "       [0.25, 0.5 , 0.5 , 0.5 , 0.  ]])"
      ]
     },
     "execution_count": 7,
     "metadata": {},
     "output_type": "execute_result"
    }
   ],
   "source": [
    "dist_matrix"
   ]
  },
  {
   "cell_type": "code",
   "execution_count": 8,
   "metadata": {},
   "outputs": [
    {
     "data": {
      "text/plain": [
       "8"
      ]
     },
     "execution_count": 8,
     "metadata": {},
     "output_type": "execute_result"
    }
   ],
   "source": [
    "#distancia de chebyshev\n",
    "'''\n",
    "#Esta distancia se define como la mayor diferencia entre las\n",
    "coordenadas de los puntos en cada dimensión. Para dos puntos\n",
    "(x1, y1), (x2, y2) se calcula como'''\n",
    "\n",
    "def dis_cheby (x1,x2):\n",
    "    if len(x1) != len(x2):\n",
    "        raise ValueError(\"Las listas deben tener la misma longitud\")\n",
    "    else:\n",
    "        return max(abs(x2[0]-x1[0]),abs(x2[1]-x1[1]),abs(x2[2]-x1[2]))\n",
    "    \n",
    "\n",
    "dis_cheby(punto1,punto2)\n"
   ]
  },
  {
   "cell_type": "code",
   "execution_count": 9,
   "metadata": {},
   "outputs": [
    {
     "data": {
      "text/plain": [
       "1.1464646464646466"
      ]
     },
     "execution_count": 9,
     "metadata": {},
     "output_type": "execute_result"
    }
   ],
   "source": [
    "#distancia Canberra:\n",
    "'''\n",
    "es una medida ponderada que se emplea en análisis\n",
    "multivariado. Permite estimar diferencias cuando las variables\n",
    "tienen diferentes escalas. Para dos vectores X y Y, la distancia\n",
    "se calcula como'''\n",
    "\n",
    "\n",
    "def dis_canberra(x1,x2):\n",
    "    if len(x1) != len(x2):\n",
    "        raise ValueError(\"Las listas deben tener la misma longitud\")\n",
    "    else:\n",
    "        dim1=abs(x2[0]-x1[0])/(abs(x2[0])+abs(x1[0]))\n",
    "        dim2=abs(x2[1]-x1[1])/(abs(x2[1]+abs(x1[1])))\n",
    "        dim3=abs(x2[2]-x1[2])/(abs(x2[2]+abs(x1[2])))\n",
    "        return dim1+dim2+dim3\n",
    "\n",
    "dis_canberra(punto1,punto2)\n"
   ]
  },
  {
   "cell_type": "code",
   "execution_count": 10,
   "metadata": {},
   "outputs": [
    {
     "data": {
      "text/plain": [
       "0.9062829910004971"
      ]
     },
     "execution_count": 10,
     "metadata": {},
     "output_type": "execute_result"
    }
   ],
   "source": [
    "# distancia coseno:\n",
    "import math\n",
    "\n",
    "\n",
    "def dis_coseno(x1,x2):\n",
    "    num=(x2[0]*x1[0])+(x2[1]*x1[1])+(x2[2]*x1[2])\n",
    "    den=math.sqrt(x1[0]**2+ x1[1]**2 +x1[2]**2) * math.sqrt(x2[0]**2+ x2[1]**2 +x2[2]**2)\n",
    "    return num/den\n",
    "\n",
    "dis_coseno(punto1,punto2)\n"
   ]
  },
  {
   "cell_type": "code",
   "execution_count": 22,
   "metadata": {},
   "outputs": [
    {
     "data": {
      "text/plain": [
       "0.5"
      ]
     },
     "execution_count": 22,
     "metadata": {},
     "output_type": "execute_result"
    }
   ],
   "source": [
    "#distancia de Jaccard:\n",
    "\n",
    "'''\n",
    "Se emplea para medir qué tan similares son dos conjuntos,\n",
    "generalmente binarios. Es la relación entre el número de\n",
    "elementos comunes entre dos conjuntos y el número total de\n",
    "elementos en los conjuntos. Permite establecer la similaridad y\n",
    "se calcula como:'''\n",
    "\n",
    "'''\n",
    "La distancia de Jaccard es una medida de disimilitud entre dos conjuntos. Es ampliamente utilizada en el análisis de datos,\n",
    "especialmente cuando se trabaja con datos binarios o categóricos.\n",
    "La distancia de Jaccard mide cuán diferentes son dos conjuntos en función de la proporción de elementos comunes versus los elementos totales.'''\n",
    "\n",
    "\n",
    "#La distancia de Jaccard varía entre 0 y 1:\n",
    "\n",
    "#0: Indica que los conjuntos son idénticos.\n",
    "#1: Indica que los conjuntos no tienen elementos en común.\n",
    "\n",
    "\n",
    "conjunto1={1,3,5,7,9,10,11,15,20}\n",
    "conjunto2={1,3,6,8,9,10,11,15,25}\n",
    "\n",
    "\n",
    "\n",
    "def dis_Jaccard(conj1,conj2):\n",
    "    inteseccion=len(conj1 & conj2)\n",
    "    union=len(conj1|conj2)\n",
    "    indice_Jaccard=inteseccion/union\n",
    "\n",
    "    return 1-indice_Jaccard\n",
    "\n",
    "\n",
    "dis_Jaccard(conjunto1,conjunto2)\n",
    "\n",
    "\n",
    "\n",
    "# con este tipo de estrecuturqa python elimina los elementos duplicados en los conjuntos "
   ]
  },
  {
   "cell_type": "code",
   "execution_count": null,
   "metadata": {},
   "outputs": [],
   "source": []
  }
 ],
 "metadata": {
  "kernelspec": {
   "display_name": "Python 3",
   "language": "python",
   "name": "python3"
  },
  "language_info": {
   "codemirror_mode": {
    "name": "ipython",
    "version": 3
   },
   "file_extension": ".py",
   "mimetype": "text/x-python",
   "name": "python",
   "nbconvert_exporter": "python",
   "pygments_lexer": "ipython3",
   "version": "3.11.3"
  }
 },
 "nbformat": 4,
 "nbformat_minor": 2
}
