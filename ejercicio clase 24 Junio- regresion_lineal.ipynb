{
  "cells": [
    {
      "cell_type": "code",
      "execution_count": 1,
      "metadata": {
        "colab": {
          "base_uri": "https://localhost:8080/"
        },
        "id": "xBGbWRp_lSS-",
        "outputId": "fd539ca3-e2f4-473f-8f4a-c13bd2f6a448"
      },
      "outputs": [
        {
          "name": "stdout",
          "output_type": "stream",
          "text": [
            "   x  y  x*y  x**2\n",
            "0  1  2    2     1\n",
            "1  2  3    6     4\n",
            "2  2  4    8     4\n",
            "3  3  4   12     9\n",
            "4  4  4   16    16\n",
            "5  4  6   24    16\n",
            "6  5  5   25    25\n",
            "7  6  7   42    36\n"
          ]
        }
      ],
      "source": [
        "import pandas as pd\n",
        "\n",
        "\n",
        "columna=['x','y']\n",
        "x=[1,2,2,3,4,4,5,6]\n",
        "y=[2,3,4,4,4,6,5,7]\n",
        "\n",
        "diccionario={columna[0]:x,\n",
        "             columna[1]:y}\n",
        "\n",
        "df=pd.DataFrame(diccionario)\n",
        "\n",
        "df['x*y']=df['x']*df['y']\n",
        "\n",
        "df['x**2']=df['x']**2\n",
        "\n",
        "\n",
        "\n",
        "print(df)\n"
      ]
    },
    {
      "cell_type": "code",
      "execution_count": 2,
      "metadata": {
        "colab": {
          "base_uri": "https://localhost:8080/",
          "height": 89
        },
        "id": "QcnT_qR3m7DF",
        "outputId": "bff6bc03-f47d-499b-a724-36e6a1960f0d"
      },
      "outputs": [
        {
          "data": {
            "text/html": [
              "<div>\n",
              "<style scoped>\n",
              "    .dataframe tbody tr th:only-of-type {\n",
              "        vertical-align: middle;\n",
              "    }\n",
              "\n",
              "    .dataframe tbody tr th {\n",
              "        vertical-align: top;\n",
              "    }\n",
              "\n",
              "    .dataframe thead th {\n",
              "        text-align: right;\n",
              "    }\n",
              "</style>\n",
              "<table border=\"1\" class=\"dataframe\">\n",
              "  <thead>\n",
              "    <tr style=\"text-align: right;\">\n",
              "      <th></th>\n",
              "      <th>x</th>\n",
              "      <th>y</th>\n",
              "      <th>x*y</th>\n",
              "      <th>x**2</th>\n",
              "    </tr>\n",
              "  </thead>\n",
              "  <tbody>\n",
              "    <tr>\n",
              "      <th>Total</th>\n",
              "      <td>27</td>\n",
              "      <td>35</td>\n",
              "      <td>135</td>\n",
              "      <td>111</td>\n",
              "    </tr>\n",
              "  </tbody>\n",
              "</table>\n",
              "</div>"
            ],
            "text/plain": [
              "        x   y  x*y  x**2\n",
              "Total  27  35  135   111"
            ]
          },
          "execution_count": 2,
          "metadata": {},
          "output_type": "execute_result"
        }
      ],
      "source": [
        "#suma\n",
        "total=df.sum()\n",
        "total_df = pd.DataFrame(total).transpose()\n",
        "\n",
        "total_df.index = ['Total']\n",
        "\n",
        "total_df\n"
      ]
    },
    {
      "cell_type": "code",
      "execution_count": 3,
      "metadata": {
        "colab": {
          "base_uri": "https://localhost:8080/",
          "height": 300
        },
        "id": "JmEpxZ2Sm_An",
        "outputId": "9f726a0f-c063-4723-c037-121f6d6f8fbf"
      },
      "outputs": [
        {
          "data": {
            "text/html": [
              "<div>\n",
              "<style scoped>\n",
              "    .dataframe tbody tr th:only-of-type {\n",
              "        vertical-align: middle;\n",
              "    }\n",
              "\n",
              "    .dataframe tbody tr th {\n",
              "        vertical-align: top;\n",
              "    }\n",
              "\n",
              "    .dataframe thead th {\n",
              "        text-align: right;\n",
              "    }\n",
              "</style>\n",
              "<table border=\"1\" class=\"dataframe\">\n",
              "  <thead>\n",
              "    <tr style=\"text-align: right;\">\n",
              "      <th></th>\n",
              "      <th>x</th>\n",
              "      <th>y</th>\n",
              "      <th>x*y</th>\n",
              "      <th>x**2</th>\n",
              "    </tr>\n",
              "  </thead>\n",
              "  <tbody>\n",
              "    <tr>\n",
              "      <th>0</th>\n",
              "      <td>1</td>\n",
              "      <td>2</td>\n",
              "      <td>2</td>\n",
              "      <td>1</td>\n",
              "    </tr>\n",
              "    <tr>\n",
              "      <th>1</th>\n",
              "      <td>2</td>\n",
              "      <td>3</td>\n",
              "      <td>6</td>\n",
              "      <td>4</td>\n",
              "    </tr>\n",
              "    <tr>\n",
              "      <th>2</th>\n",
              "      <td>2</td>\n",
              "      <td>4</td>\n",
              "      <td>8</td>\n",
              "      <td>4</td>\n",
              "    </tr>\n",
              "    <tr>\n",
              "      <th>3</th>\n",
              "      <td>3</td>\n",
              "      <td>4</td>\n",
              "      <td>12</td>\n",
              "      <td>9</td>\n",
              "    </tr>\n",
              "    <tr>\n",
              "      <th>4</th>\n",
              "      <td>4</td>\n",
              "      <td>4</td>\n",
              "      <td>16</td>\n",
              "      <td>16</td>\n",
              "    </tr>\n",
              "    <tr>\n",
              "      <th>5</th>\n",
              "      <td>4</td>\n",
              "      <td>6</td>\n",
              "      <td>24</td>\n",
              "      <td>16</td>\n",
              "    </tr>\n",
              "    <tr>\n",
              "      <th>6</th>\n",
              "      <td>5</td>\n",
              "      <td>5</td>\n",
              "      <td>25</td>\n",
              "      <td>25</td>\n",
              "    </tr>\n",
              "    <tr>\n",
              "      <th>7</th>\n",
              "      <td>6</td>\n",
              "      <td>7</td>\n",
              "      <td>42</td>\n",
              "      <td>36</td>\n",
              "    </tr>\n",
              "  </tbody>\n",
              "</table>\n",
              "</div>"
            ],
            "text/plain": [
              "   x  y  x*y  x**2\n",
              "0  1  2    2     1\n",
              "1  2  3    6     4\n",
              "2  2  4    8     4\n",
              "3  3  4   12     9\n",
              "4  4  4   16    16\n",
              "5  4  6   24    16\n",
              "6  5  5   25    25\n",
              "7  6  7   42    36"
            ]
          },
          "execution_count": 3,
          "metadata": {},
          "output_type": "execute_result"
        }
      ],
      "source": [
        "df"
      ]
    },
    {
      "cell_type": "code",
      "execution_count": 4,
      "metadata": {
        "id": "JYylVZC3m8Vi"
      },
      "outputs": [],
      "source": [
        "def pendiente_intercepto(df, x_col, y_col):\n",
        "    n = len(df)\n",
        "    sum_x = df[x_col].sum()\n",
        "    sum_y = df[y_col].sum()\n",
        "    sum_xy = (df[x_col] * df[y_col]).sum()\n",
        "    sum_x2 = (df[x_col] ** 2).sum()\n",
        "    #  pendiente m\n",
        "    m = (n * sum_xy - sum_x * sum_y) / (n * sum_x2 - sum_x ** 2)\n",
        "\n",
        "    #  intercepto b\n",
        "    b = (sum_y - m * sum_x) / n\n",
        "\n",
        "    return m, b\n"
      ]
    },
    {
      "cell_type": "code",
      "execution_count": 5,
      "metadata": {
        "colab": {
          "base_uri": "https://localhost:8080/"
        },
        "id": "BtndvBzVrG5X",
        "outputId": "850de560-a22b-40c4-d4ae-f9f424a70cfa"
      },
      "outputs": [
        {
          "name": "stdout",
          "output_type": "stream",
          "text": [
            "0.8490566037735849 1.5094339622641506\n"
          ]
        }
      ],
      "source": [
        "m,b= pendiente_intercepto(df,'x','y')\n",
        "print(m,b)"
      ]
    },
    {
      "cell_type": "code",
      "execution_count": 6,
      "metadata": {
        "colab": {
          "base_uri": "https://localhost:8080/"
        },
        "id": "5tu-sQ8treL9",
        "outputId": "c5d4f825-f50a-42fc-e535-eff92a8886fb"
      },
      "outputs": [
        {
          "name": "stdout",
          "output_type": "stream",
          "text": [
            "La ecuación de regresión lineal es: y = 0.8490566037735849x + 1.5094339622641506\n"
          ]
        }
      ],
      "source": [
        "\n",
        "print(f\"La ecuación de regresión lineal es: y = {m}x + {b}\")\n",
        "\n",
        "def regresion_lineal(x):\n",
        "    return m * x + b\n"
      ]
    },
    {
      "cell_type": "code",
      "execution_count": 7,
      "metadata": {
        "colab": {
          "base_uri": "https://localhost:8080/"
        },
        "id": "S1RM1h2yrp9p",
        "outputId": "518233c0-20ec-4969-a39e-de123227da98"
      },
      "outputs": [
        {
          "name": "stdout",
          "output_type": "stream",
          "text": [
            "4.056603773584905\n"
          ]
        }
      ],
      "source": [
        "print(regresion_lineal(3))"
      ]
    },
    {
      "cell_type": "code",
      "execution_count": 8,
      "metadata": {
        "colab": {
          "base_uri": "https://localhost:8080/",
          "height": 472
        },
        "id": "g7-lj9Yir2FD",
        "outputId": "37e61740-550b-4369-8cd9-9f49d9af02ac"
      },
      "outputs": [
        {
          "data": {
            "image/png": "[encoded data removed]",
            "text/plain": [
              "<Figure size 640x480 with 1 Axes>"
            ]
          },
          "metadata": {},
          "output_type": "display_data"
        }
      ],
      "source": [
        "import matplotlib.pyplot as plt\n",
        "\n",
        "plt.scatter(df['x'], df['y'], color='blue', label='Datos')\n",
        "\n",
        "plt.plot(df['x'], m * df['x'] + b, color='red', label=f'Regresión lineal: y = {m:.2f}x + {b:.2f}')\n",
        "\n",
        "plt.xlabel('x')\n",
        "plt.ylabel('y')\n",
        "plt.title('Nube de puntos y regresión lineal')\n",
        "plt.legend()\n",
        "\n",
        "# gráfico\n",
        "plt.show()"
      ]
    },
    {
      "cell_type": "code",
      "execution_count": 9,
      "metadata": {
        "colab": {
          "base_uri": "https://localhost:8080/"
        },
        "id": "1miPiwmTtZ3I",
        "outputId": "c6f67189-9d33-48d9-bac4-fae4f53cf529"
      },
      "outputs": [
        {
          "name": "stdout",
          "output_type": "stream",
          "text": [
            "El valor de Sr (suma de los residuos al cuadrado) es: 3.5471698113207544\n"
          ]
        }
      ],
      "source": [
        "\n",
        "df['y_pred'] = m * df['x'] + b\n",
        "\n",
        "\n",
        "df['error'] = df['y'] - df['y_pred']\n",
        "\n",
        "df['error_cuadrado']=df['error']**2\n",
        "\n",
        "sr = df['error_cuadrado'].sum()\n",
        "\n",
        "df['error absoluto']=df['error_cuadrado'].abs()\n",
        "\n",
        "\n",
        "print(f\"El valor de Sr (suma de los residuos al cuadrado) es: {sr}\")"
      ]
    },
    {
      "cell_type": "code",
      "execution_count": 10,
      "metadata": {
        "colab": {
          "base_uri": "https://localhost:8080/",
          "height": 300
        },
        "id": "gdX8E-Butqpw",
        "outputId": "d43295da-a549-4ccf-86b9-cf1dcfb7d71f"
      },
      "outputs": [
        {
          "data": {
            "text/html": [
              "<div>\n",
              "<style scoped>\n",
              "    .dataframe tbody tr th:only-of-type {\n",
              "        vertical-align: middle;\n",
              "    }\n",
              "\n",
              "    .dataframe tbody tr th {\n",
              "        vertical-align: top;\n",
              "    }\n",
              "\n",
              "    .dataframe thead th {\n",
              "        text-align: right;\n",
              "    }\n",
              "</style>\n",
              "<table border=\"1\" class=\"dataframe\">\n",
              "  <thead>\n",
              "    <tr style=\"text-align: right;\">\n",
              "      <th></th>\n",
              "      <th>x</th>\n",
              "      <th>y</th>\n",
              "      <th>x*y</th>\n",
              "      <th>x**2</th>\n",
              "      <th>y_pred</th>\n",
              "      <th>error</th>\n",
              "      <th>error_cuadrado</th>\n",
              "      <th>error absoluto</th>\n",
              "    </tr>\n",
              "  </thead>\n",
              "  <tbody>\n",
              "    <tr>\n",
              "      <th>0</th>\n",
              "      <td>1</td>\n",
              "      <td>2</td>\n",
              "      <td>2</td>\n",
              "      <td>1</td>\n",
              "      <td>2.358491</td>\n",
              "      <td>-0.358491</td>\n",
              "      <td>0.128515</td>\n",
              "      <td>0.128515</td>\n",
              "    </tr>\n",
              "    <tr>\n",
              "      <th>1</th>\n",
              "      <td>2</td>\n",
              "      <td>3</td>\n",
              "      <td>6</td>\n",
              "      <td>4</td>\n",
              "      <td>3.207547</td>\n",
              "      <td>-0.207547</td>\n",
              "      <td>0.043076</td>\n",
              "      <td>0.043076</td>\n",
              "    </tr>\n",
              "    <tr>\n",
              "      <th>2</th>\n",
              "      <td>2</td>\n",
              "      <td>4</td>\n",
              "      <td>8</td>\n",
              "      <td>4</td>\n",
              "      <td>3.207547</td>\n",
              "      <td>0.792453</td>\n",
              "      <td>0.627981</td>\n",
              "      <td>0.627981</td>\n",
              "    </tr>\n",
              "    <tr>\n",
              "      <th>3</th>\n",
              "      <td>3</td>\n",
              "      <td>4</td>\n",
              "      <td>12</td>\n",
              "      <td>9</td>\n",
              "      <td>4.056604</td>\n",
              "      <td>-0.056604</td>\n",
              "      <td>0.003204</td>\n",
              "      <td>0.003204</td>\n",
              "    </tr>\n",
              "    <tr>\n",
              "      <th>4</th>\n",
              "      <td>4</td>\n",
              "      <td>4</td>\n",
              "      <td>16</td>\n",
              "      <td>16</td>\n",
              "      <td>4.905660</td>\n",
              "      <td>-0.905660</td>\n",
              "      <td>0.820221</td>\n",
              "      <td>0.820221</td>\n",
              "    </tr>\n",
              "    <tr>\n",
              "      <th>5</th>\n",
              "      <td>4</td>\n",
              "      <td>6</td>\n",
              "      <td>24</td>\n",
              "      <td>16</td>\n",
              "      <td>4.905660</td>\n",
              "      <td>1.094340</td>\n",
              "      <td>1.197579</td>\n",
              "      <td>1.197579</td>\n",
              "    </tr>\n",
              "    <tr>\n",
              "      <th>6</th>\n",
              "      <td>5</td>\n",
              "      <td>5</td>\n",
              "      <td>25</td>\n",
              "      <td>25</td>\n",
              "      <td>5.754717</td>\n",
              "      <td>-0.754717</td>\n",
              "      <td>0.569598</td>\n",
              "      <td>0.569598</td>\n",
              "    </tr>\n",
              "    <tr>\n",
              "      <th>7</th>\n",
              "      <td>6</td>\n",
              "      <td>7</td>\n",
              "      <td>42</td>\n",
              "      <td>36</td>\n",
              "      <td>6.603774</td>\n",
              "      <td>0.396226</td>\n",
              "      <td>0.156995</td>\n",
              "      <td>0.156995</td>\n",
              "    </tr>\n",
              "  </tbody>\n",
              "</table>\n",
              "</div>"
            ],
            "text/plain": [
              "   x  y  x*y  x**2    y_pred     error  error_cuadrado  error absoluto\n",
              "0  1  2    2     1  2.358491 -0.358491        0.128515        0.128515\n",
              "1  2  3    6     4  3.207547 -0.207547        0.043076        0.043076\n",
              "2  2  4    8     4  3.207547  0.792453        0.627981        0.627981\n",
              "3  3  4   12     9  4.056604 -0.056604        0.003204        0.003204\n",
              "4  4  4   16    16  4.905660 -0.905660        0.820221        0.820221\n",
              "5  4  6   24    16  4.905660  1.094340        1.197579        1.197579\n",
              "6  5  5   25    25  5.754717 -0.754717        0.569598        0.569598\n",
              "7  6  7   42    36  6.603774  0.396226        0.156995        0.156995"
            ]
          },
          "execution_count": 10,
          "metadata": {},
          "output_type": "execute_result"
        }
      ],
      "source": [
        "df"
      ]
    },
    {
      "cell_type": "code",
      "execution_count": 11,
      "metadata": {
        "colab": {
          "base_uri": "https://localhost:8080/",
          "height": 331
        },
        "id": "33dkfbbDrL0y",
        "outputId": "11274d97-159b-406a-d1cd-cdb702ccbf14"
      },
      "outputs": [
        {
          "data": {
            "text/plain": [
              "0.4433962264150943"
            ]
          },
          "execution_count": 11,
          "metadata": {},
          "output_type": "execute_result"
        }
      ],
      "source": [
        "def mse (sr,df):\n",
        "    n=len(df)\n",
        "    return sr/n\n",
        "\n",
        "resultado_mse=mse(sr,df)\n",
        "resultado_mse\n"
      ]
    },
    {
      "cell_type": "code",
      "execution_count": 12,
      "metadata": {
        "id": "5s2WONaKtt-l"
      },
      "outputs": [
        {
          "data": {
            "text/plain": [
              "0.6658800390574073"
            ]
          },
          "execution_count": 12,
          "metadata": {},
          "output_type": "execute_result"
        }
      ],
      "source": [
        "def RMSE (mse):\n",
        "    return mse ** 0.5\n",
        "\n",
        "resultado_RMSE=RMSE(resultado_mse)\n",
        "resultado_RMSE"
      ]
    },
    {
      "cell_type": "code",
      "execution_count": 13,
      "metadata": {},
      "outputs": [
        {
          "data": {
            "text/plain": [
              "0.4433962264150943"
            ]
          },
          "execution_count": 13,
          "metadata": {},
          "output_type": "execute_result"
        }
      ],
      "source": [
        "\n",
        "\n",
        "def MAE (df):\n",
        "    n=len(df)\n",
        "    mae=(df['error absoluto'].sum())/n\n",
        "    return mae\n",
        "\n",
        "resultado_mae=MAE(df)\n",
        "resultado_mae"
      ]
    }
  ],
  "metadata": {
    "colab": {
      "provenance": []
    },
    "kernelspec": {
      "display_name": "Python 3",
      "name": "python3"
    },
    "language_info": {
      "codemirror_mode": {
        "name": "ipython",
        "version": 3
      },
      "file_extension": ".py",
      "mimetype": "text/x-python",
      "name": "python",
      "nbconvert_exporter": "python",
      "pygments_lexer": "ipython3",
      "version": "3.11.3"
    }
  },
  "nbformat": 4,
  "nbformat_minor": 0
}
