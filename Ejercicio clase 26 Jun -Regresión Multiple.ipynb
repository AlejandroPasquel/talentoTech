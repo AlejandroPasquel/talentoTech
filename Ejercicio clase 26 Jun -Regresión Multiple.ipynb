{
 "cells": [
  {
   "cell_type": "code",
   "execution_count": 1,
   "metadata": {},
   "outputs": [
    {
     "name": "stdout",
     "output_type": "stream",
     "text": [
      "La forma de x1 es: (13,)\n",
      "La forma de x2 es: (13,)\n",
      "La forma de x3 es: (13,)\n",
      "La forma de x4 es: (13,)\n",
      "La forma de y es: (13,)\n"
     ]
    }
   ],
   "source": [
    "import numpy as np\n",
    "import pandas as pd\n",
    "#Regresion lineal multiple:\n",
    "\n",
    "\n",
    "#regresores\n",
    "x1=np.array([7,1,11,11,7,11,3,1,2,21,1,11,10])\n",
    "x2=np.array([26,29,56,31,52,55,71,31,54,47,40,66,68])\n",
    "x3=np.array([6,15,8,8,6,9,17,22,18,4,23,9,8])\n",
    "x4=np.array([60,52,20,47,33,22,6,44,22,26,34,12,12])\n",
    "\n",
    "#regresando\n",
    "y=np.array([78.5,74.3,104.3,87.6,95.9,109.2,102.7,72.5,93.1,115.9,83.8,113.3,109.4])\n",
    "\n",
    "\n",
    "data = {\n",
    "    'x1': x1,\n",
    "    'x2': x2,\n",
    "    'x3': x3,\n",
    "    'x4': x4,\n",
    "    'y': y\n",
    "}\n",
    "\n",
    "#forma \n",
    "\n",
    "print(f'La forma de x1 es: {x1.shape}')\n",
    "print(f'La forma de x2 es: {x2.shape}')\n",
    "print(f'La forma de x3 es: {x3.shape}')\n",
    "print(f'La forma de x4 es: {x4.shape}')\n",
    "print(f'La forma de y es: {y.shape}')"
   ]
  },
  {
   "cell_type": "code",
   "execution_count": 2,
   "metadata": {},
   "outputs": [
    {
     "data": {
      "text/plain": [
       "array([[ 1.,  7., 26.,  6., 60.],\n",
       "       [ 1.,  1., 29., 15., 52.],\n",
       "       [ 1., 11., 56.,  8., 20.],\n",
       "       [ 1., 11., 31.,  8., 47.],\n",
       "       [ 1.,  7., 52.,  6., 33.],\n",
       "       [ 1., 11., 55.,  9., 22.],\n",
       "       [ 1.,  3., 71., 17.,  6.],\n",
       "       [ 1.,  1., 31., 22., 44.],\n",
       "       [ 1.,  2., 54., 18., 22.],\n",
       "       [ 1., 21., 47.,  4., 26.],\n",
       "       [ 1.,  1., 40., 23., 34.],\n",
       "       [ 1., 11., 66.,  9., 12.],\n",
       "       [ 1., 10., 68.,  8., 12.]])"
      ]
     },
     "execution_count": 2,
     "metadata": {},
     "output_type": "execute_result"
    }
   ],
   "source": [
    "# matriz X \n",
    "uno=np.ones(13)\n",
    "\n",
    "X = np.column_stack((uno,x1, x2, x3, x4))\n",
    "\n",
    "X"
   ]
  },
  {
   "cell_type": "code",
   "execution_count": 3,
   "metadata": {},
   "outputs": [
    {
     "data": {
      "text/plain": [
       "(13, 5)"
      ]
     },
     "execution_count": 3,
     "metadata": {},
     "output_type": "execute_result"
    }
   ],
   "source": [
    "X.shape"
   ]
  },
  {
   "cell_type": "code",
   "execution_count": 4,
   "metadata": {},
   "outputs": [
    {
     "data": {
      "text/plain": [
       "array([[ 1.,  1.,  1.,  1.,  1.,  1.,  1.,  1.,  1.,  1.,  1.,  1.,  1.],\n",
       "       [ 7.,  1., 11., 11.,  7., 11.,  3.,  1.,  2., 21.,  1., 11., 10.],\n",
       "       [26., 29., 56., 31., 52., 55., 71., 31., 54., 47., 40., 66., 68.],\n",
       "       [ 6., 15.,  8.,  8.,  6.,  9., 17., 22., 18.,  4., 23.,  9.,  8.],\n",
       "       [60., 52., 20., 47., 33., 22.,  6., 44., 22., 26., 34., 12., 12.]])"
      ]
     },
     "execution_count": 4,
     "metadata": {},
     "output_type": "execute_result"
    }
   ],
   "source": [
    "# Transpuesta\n",
    "\n",
    "XT=X.T\n",
    "XT\n"
   ]
  },
  {
   "cell_type": "code",
   "execution_count": 5,
   "metadata": {},
   "outputs": [
    {
     "data": {
      "text/plain": [
       "(5, 13)"
      ]
     },
     "execution_count": 5,
     "metadata": {},
     "output_type": "execute_result"
    }
   ],
   "source": [
    "XT.shape"
   ]
  },
  {
   "cell_type": "code",
   "execution_count": 6,
   "metadata": {},
   "outputs": [
    {
     "name": "stdout",
     "output_type": "stream",
     "text": [
      "(5, 5)\n"
     ]
    }
   ],
   "source": [
    "#Multiplicacion \n",
    "\n",
    "mult=XT@X\n",
    "mult\n",
    "print(mult.shape)"
   ]
  },
  {
   "cell_type": "code",
   "execution_count": 7,
   "metadata": {},
   "outputs": [
    {
     "data": {
      "text/plain": [
       "True"
      ]
     },
     "execution_count": 7,
     "metadata": {},
     "output_type": "execute_result"
    }
   ],
   "source": [
    "# funncion para validar si el determinando es dif de 0y corroborar que se puede realizar la operacion [X'X]-1\n",
    "\n",
    "def es_determinante_no_cero(A, B):\n",
    " \n",
    "    C = A@B\n",
    " \n",
    "    determinante = np.linalg.det(C)\n",
    " \n",
    "    return determinante != 0   #True si el determinante es diferente de 0, False en caso contrario\n",
    "\n",
    "# si el det(A)=0 utilizar la inv de penrose-Moore\n",
    "es_determinante_no_cero(XT,X)"
   ]
  },
  {
   "cell_type": "code",
   "execution_count": 8,
   "metadata": {},
   "outputs": [
    {
     "data": {
      "text/plain": [
       "(5, 5)"
      ]
     },
     "execution_count": 8,
     "metadata": {},
     "output_type": "execute_result"
    }
   ],
   "source": [
    "# Inversa de la matriz [X'X]-1\n",
    "\n",
    "inversa=A_inv = np.linalg.inv(mult)\n",
    "inversa\n",
    "inversa.shape"
   ]
  },
  {
   "cell_type": "code",
   "execution_count": 9,
   "metadata": {},
   "outputs": [
    {
     "data": {
      "text/plain": [
       "array([62.4053693 ,  1.55110265,  0.51016758,  0.1019094 , -0.14406103])"
      ]
     },
     "execution_count": 9,
     "metadata": {},
     "output_type": "execute_result"
    }
   ],
   "source": [
    "#betas\n",
    "\n",
    "b=inversa@XT@y\n",
    "b\n",
    "b.shape\n",
    "b"
   ]
  },
  {
   "cell_type": "code",
   "execution_count": 10,
   "metadata": {},
   "outputs": [],
   "source": [
    "#ecuacion de regrecion\n",
    "\n",
    "def regresion_multiple(betas, matriz):\n",
    " \n",
    "  y_hat = matriz@betas \n",
    "    \n",
    "  return y_hat"
   ]
  },
  {
   "cell_type": "code",
   "execution_count": 11,
   "metadata": {},
   "outputs": [],
   "source": [
    "prediccion=regresion_multiple(b,X)"
   ]
  },
  {
   "cell_type": "code",
   "execution_count": 20,
   "metadata": {},
   "outputs": [
    {
     "data": {
      "text/html": [
       "<div>\n",
       "<style scoped>\n",
       "    .dataframe tbody tr th:only-of-type {\n",
       "        vertical-align: middle;\n",
       "    }\n",
       "\n",
       "    .dataframe tbody tr th {\n",
       "        vertical-align: top;\n",
       "    }\n",
       "\n",
       "    .dataframe thead th {\n",
       "        text-align: right;\n",
       "    }\n",
       "</style>\n",
       "<table border=\"1\" class=\"dataframe\">\n",
       "  <thead>\n",
       "    <tr style=\"text-align: right;\">\n",
       "      <th></th>\n",
       "      <th>x1</th>\n",
       "      <th>x2</th>\n",
       "      <th>x3</th>\n",
       "      <th>x4</th>\n",
       "      <th>y</th>\n",
       "      <th>Y_hat</th>\n",
       "    </tr>\n",
       "  </thead>\n",
       "  <tbody>\n",
       "    <tr>\n",
       "      <th>0</th>\n",
       "      <td>7</td>\n",
       "      <td>26</td>\n",
       "      <td>6</td>\n",
       "      <td>60</td>\n",
       "      <td>78.5</td>\n",
       "      <td>78.495240</td>\n",
       "    </tr>\n",
       "    <tr>\n",
       "      <th>1</th>\n",
       "      <td>1</td>\n",
       "      <td>29</td>\n",
       "      <td>15</td>\n",
       "      <td>52</td>\n",
       "      <td>74.3</td>\n",
       "      <td>72.788799</td>\n",
       "    </tr>\n",
       "    <tr>\n",
       "      <th>2</th>\n",
       "      <td>11</td>\n",
       "      <td>56</td>\n",
       "      <td>8</td>\n",
       "      <td>20</td>\n",
       "      <td>104.3</td>\n",
       "      <td>105.970938</td>\n",
       "    </tr>\n",
       "    <tr>\n",
       "      <th>3</th>\n",
       "      <td>11</td>\n",
       "      <td>31</td>\n",
       "      <td>8</td>\n",
       "      <td>47</td>\n",
       "      <td>87.6</td>\n",
       "      <td>89.327100</td>\n",
       "    </tr>\n",
       "    <tr>\n",
       "      <th>4</th>\n",
       "      <td>7</td>\n",
       "      <td>52</td>\n",
       "      <td>6</td>\n",
       "      <td>33</td>\n",
       "      <td>95.9</td>\n",
       "      <td>95.649244</td>\n",
       "    </tr>\n",
       "    <tr>\n",
       "      <th>5</th>\n",
       "      <td>11</td>\n",
       "      <td>55</td>\n",
       "      <td>9</td>\n",
       "      <td>22</td>\n",
       "      <td>109.2</td>\n",
       "      <td>105.274557</td>\n",
       "    </tr>\n",
       "    <tr>\n",
       "      <th>6</th>\n",
       "      <td>3</td>\n",
       "      <td>71</td>\n",
       "      <td>17</td>\n",
       "      <td>6</td>\n",
       "      <td>102.7</td>\n",
       "      <td>104.148669</td>\n",
       "    </tr>\n",
       "    <tr>\n",
       "      <th>7</th>\n",
       "      <td>1</td>\n",
       "      <td>31</td>\n",
       "      <td>22</td>\n",
       "      <td>44</td>\n",
       "      <td>72.5</td>\n",
       "      <td>75.674989</td>\n",
       "    </tr>\n",
       "    <tr>\n",
       "      <th>8</th>\n",
       "      <td>2</td>\n",
       "      <td>54</td>\n",
       "      <td>18</td>\n",
       "      <td>22</td>\n",
       "      <td>93.1</td>\n",
       "      <td>91.721651</td>\n",
       "    </tr>\n",
       "    <tr>\n",
       "      <th>9</th>\n",
       "      <td>21</td>\n",
       "      <td>47</td>\n",
       "      <td>4</td>\n",
       "      <td>26</td>\n",
       "      <td>115.9</td>\n",
       "      <td>115.618452</td>\n",
       "    </tr>\n",
       "    <tr>\n",
       "      <th>10</th>\n",
       "      <td>1</td>\n",
       "      <td>40</td>\n",
       "      <td>23</td>\n",
       "      <td>34</td>\n",
       "      <td>83.8</td>\n",
       "      <td>81.809016</td>\n",
       "    </tr>\n",
       "    <tr>\n",
       "      <th>11</th>\n",
       "      <td>11</td>\n",
       "      <td>66</td>\n",
       "      <td>9</td>\n",
       "      <td>12</td>\n",
       "      <td>113.3</td>\n",
       "      <td>112.327011</td>\n",
       "    </tr>\n",
       "    <tr>\n",
       "      <th>12</th>\n",
       "      <td>10</td>\n",
       "      <td>68</td>\n",
       "      <td>8</td>\n",
       "      <td>12</td>\n",
       "      <td>109.4</td>\n",
       "      <td>111.694334</td>\n",
       "    </tr>\n",
       "  </tbody>\n",
       "</table>\n",
       "</div>"
      ],
      "text/plain": [
       "    x1  x2  x3  x4      y       Y_hat\n",
       "0    7  26   6  60   78.5   78.495240\n",
       "1    1  29  15  52   74.3   72.788799\n",
       "2   11  56   8  20  104.3  105.970938\n",
       "3   11  31   8  47   87.6   89.327100\n",
       "4    7  52   6  33   95.9   95.649244\n",
       "5   11  55   9  22  109.2  105.274557\n",
       "6    3  71  17   6  102.7  104.148669\n",
       "7    1  31  22  44   72.5   75.674989\n",
       "8    2  54  18  22   93.1   91.721651\n",
       "9   21  47   4  26  115.9  115.618452\n",
       "10   1  40  23  34   83.8   81.809016\n",
       "11  11  66   9  12  113.3  112.327011\n",
       "12  10  68   8  12  109.4  111.694334"
      ]
     },
     "execution_count": 20,
     "metadata": {},
     "output_type": "execute_result"
    }
   ],
   "source": [
    "df=pd.DataFrame(data)\n",
    "\n",
    "df1=pd.DataFrame(prediccion)\n",
    "\n",
    "df=pd.concat([df,df1],axis=1)\n",
    "df.rename(columns={0:'Y_hat'},inplace=True)\n",
    "df"
   ]
  },
  {
   "cell_type": "code",
   "execution_count": 23,
   "metadata": {},
   "outputs": [
    {
     "name": "stdout",
     "output_type": "stream",
     "text": [
      "El valor de Sr (suma de los residuos al cuadrado) es: 47.86363935049893\n"
     ]
    },
    {
     "data": {
      "text/html": [
       "<div>\n",
       "<style scoped>\n",
       "    .dataframe tbody tr th:only-of-type {\n",
       "        vertical-align: middle;\n",
       "    }\n",
       "\n",
       "    .dataframe tbody tr th {\n",
       "        vertical-align: top;\n",
       "    }\n",
       "\n",
       "    .dataframe thead th {\n",
       "        text-align: right;\n",
       "    }\n",
       "</style>\n",
       "<table border=\"1\" class=\"dataframe\">\n",
       "  <thead>\n",
       "    <tr style=\"text-align: right;\">\n",
       "      <th></th>\n",
       "      <th>x1</th>\n",
       "      <th>x2</th>\n",
       "      <th>x3</th>\n",
       "      <th>x4</th>\n",
       "      <th>y</th>\n",
       "      <th>Y_hat</th>\n",
       "      <th>error</th>\n",
       "      <th>error_cuadrado</th>\n",
       "      <th>error absoluto</th>\n",
       "    </tr>\n",
       "  </thead>\n",
       "  <tbody>\n",
       "    <tr>\n",
       "      <th>0</th>\n",
       "      <td>7</td>\n",
       "      <td>26</td>\n",
       "      <td>6</td>\n",
       "      <td>60</td>\n",
       "      <td>78.5</td>\n",
       "      <td>78.495240</td>\n",
       "      <td>0.004760</td>\n",
       "      <td>0.000023</td>\n",
       "      <td>0.000023</td>\n",
       "    </tr>\n",
       "    <tr>\n",
       "      <th>1</th>\n",
       "      <td>1</td>\n",
       "      <td>29</td>\n",
       "      <td>15</td>\n",
       "      <td>52</td>\n",
       "      <td>74.3</td>\n",
       "      <td>72.788799</td>\n",
       "      <td>1.511201</td>\n",
       "      <td>2.283728</td>\n",
       "      <td>2.283728</td>\n",
       "    </tr>\n",
       "    <tr>\n",
       "      <th>2</th>\n",
       "      <td>11</td>\n",
       "      <td>56</td>\n",
       "      <td>8</td>\n",
       "      <td>20</td>\n",
       "      <td>104.3</td>\n",
       "      <td>105.970938</td>\n",
       "      <td>-1.670938</td>\n",
       "      <td>2.792032</td>\n",
       "      <td>2.792032</td>\n",
       "    </tr>\n",
       "    <tr>\n",
       "      <th>3</th>\n",
       "      <td>11</td>\n",
       "      <td>31</td>\n",
       "      <td>8</td>\n",
       "      <td>47</td>\n",
       "      <td>87.6</td>\n",
       "      <td>89.327100</td>\n",
       "      <td>-1.727100</td>\n",
       "      <td>2.982875</td>\n",
       "      <td>2.982875</td>\n",
       "    </tr>\n",
       "    <tr>\n",
       "      <th>4</th>\n",
       "      <td>7</td>\n",
       "      <td>52</td>\n",
       "      <td>6</td>\n",
       "      <td>33</td>\n",
       "      <td>95.9</td>\n",
       "      <td>95.649244</td>\n",
       "      <td>0.250756</td>\n",
       "      <td>0.062878</td>\n",
       "      <td>0.062878</td>\n",
       "    </tr>\n",
       "    <tr>\n",
       "      <th>5</th>\n",
       "      <td>11</td>\n",
       "      <td>55</td>\n",
       "      <td>9</td>\n",
       "      <td>22</td>\n",
       "      <td>109.2</td>\n",
       "      <td>105.274557</td>\n",
       "      <td>3.925443</td>\n",
       "      <td>15.409100</td>\n",
       "      <td>15.409100</td>\n",
       "    </tr>\n",
       "    <tr>\n",
       "      <th>6</th>\n",
       "      <td>3</td>\n",
       "      <td>71</td>\n",
       "      <td>17</td>\n",
       "      <td>6</td>\n",
       "      <td>102.7</td>\n",
       "      <td>104.148669</td>\n",
       "      <td>-1.448669</td>\n",
       "      <td>2.098642</td>\n",
       "      <td>2.098642</td>\n",
       "    </tr>\n",
       "    <tr>\n",
       "      <th>7</th>\n",
       "      <td>1</td>\n",
       "      <td>31</td>\n",
       "      <td>22</td>\n",
       "      <td>44</td>\n",
       "      <td>72.5</td>\n",
       "      <td>75.674989</td>\n",
       "      <td>-3.174989</td>\n",
       "      <td>10.080552</td>\n",
       "      <td>10.080552</td>\n",
       "    </tr>\n",
       "    <tr>\n",
       "      <th>8</th>\n",
       "      <td>2</td>\n",
       "      <td>54</td>\n",
       "      <td>18</td>\n",
       "      <td>22</td>\n",
       "      <td>93.1</td>\n",
       "      <td>91.721651</td>\n",
       "      <td>1.378349</td>\n",
       "      <td>1.899847</td>\n",
       "      <td>1.899847</td>\n",
       "    </tr>\n",
       "    <tr>\n",
       "      <th>9</th>\n",
       "      <td>21</td>\n",
       "      <td>47</td>\n",
       "      <td>4</td>\n",
       "      <td>26</td>\n",
       "      <td>115.9</td>\n",
       "      <td>115.618452</td>\n",
       "      <td>0.281548</td>\n",
       "      <td>0.079269</td>\n",
       "      <td>0.079269</td>\n",
       "    </tr>\n",
       "    <tr>\n",
       "      <th>10</th>\n",
       "      <td>1</td>\n",
       "      <td>40</td>\n",
       "      <td>23</td>\n",
       "      <td>34</td>\n",
       "      <td>83.8</td>\n",
       "      <td>81.809016</td>\n",
       "      <td>1.990984</td>\n",
       "      <td>3.964016</td>\n",
       "      <td>3.964016</td>\n",
       "    </tr>\n",
       "    <tr>\n",
       "      <th>11</th>\n",
       "      <td>11</td>\n",
       "      <td>66</td>\n",
       "      <td>9</td>\n",
       "      <td>12</td>\n",
       "      <td>113.3</td>\n",
       "      <td>112.327011</td>\n",
       "      <td>0.972989</td>\n",
       "      <td>0.946708</td>\n",
       "      <td>0.946708</td>\n",
       "    </tr>\n",
       "    <tr>\n",
       "      <th>12</th>\n",
       "      <td>10</td>\n",
       "      <td>68</td>\n",
       "      <td>8</td>\n",
       "      <td>12</td>\n",
       "      <td>109.4</td>\n",
       "      <td>111.694334</td>\n",
       "      <td>-2.294334</td>\n",
       "      <td>5.263969</td>\n",
       "      <td>5.263969</td>\n",
       "    </tr>\n",
       "  </tbody>\n",
       "</table>\n",
       "</div>"
      ],
      "text/plain": [
       "    x1  x2  x3  x4      y       Y_hat     error  error_cuadrado  \\\n",
       "0    7  26   6  60   78.5   78.495240  0.004760        0.000023   \n",
       "1    1  29  15  52   74.3   72.788799  1.511201        2.283728   \n",
       "2   11  56   8  20  104.3  105.970938 -1.670938        2.792032   \n",
       "3   11  31   8  47   87.6   89.327100 -1.727100        2.982875   \n",
       "4    7  52   6  33   95.9   95.649244  0.250756        0.062878   \n",
       "5   11  55   9  22  109.2  105.274557  3.925443       15.409100   \n",
       "6    3  71  17   6  102.7  104.148669 -1.448669        2.098642   \n",
       "7    1  31  22  44   72.5   75.674989 -3.174989       10.080552   \n",
       "8    2  54  18  22   93.1   91.721651  1.378349        1.899847   \n",
       "9   21  47   4  26  115.9  115.618452  0.281548        0.079269   \n",
       "10   1  40  23  34   83.8   81.809016  1.990984        3.964016   \n",
       "11  11  66   9  12  113.3  112.327011  0.972989        0.946708   \n",
       "12  10  68   8  12  109.4  111.694334 -2.294334        5.263969   \n",
       "\n",
       "    error absoluto  \n",
       "0         0.000023  \n",
       "1         2.283728  \n",
       "2         2.792032  \n",
       "3         2.982875  \n",
       "4         0.062878  \n",
       "5        15.409100  \n",
       "6         2.098642  \n",
       "7        10.080552  \n",
       "8         1.899847  \n",
       "9         0.079269  \n",
       "10        3.964016  \n",
       "11        0.946708  \n",
       "12        5.263969  "
      ]
     },
     "execution_count": 23,
     "metadata": {},
     "output_type": "execute_result"
    }
   ],
   "source": [
    "df['error'] = df['y'] - df['Y_hat']\n",
    "df['error_cuadrado']=df['error']**2\n",
    "df['error_cuadrado']=df['error']**2\n",
    "sr = df['error_cuadrado'].sum()\n",
    "df['error absoluto']=df['error_cuadrado'].abs()\n",
    "\n",
    "print(f\"El valor de Sr (suma de los residuos al cuadrado) es: {sr}\")\n",
    "df"
   ]
  },
  {
   "cell_type": "code",
   "execution_count": 28,
   "metadata": {},
   "outputs": [
    {
     "name": "stdout",
     "output_type": "stream",
     "text": [
      "resultado del MSE propio :3.681818411576841 y con sklearn 3.681818411576841\n"
     ]
    }
   ],
   "source": [
    "from sklearn.metrics import mean_squared_error, mean_absolute_error, r2_score, mean_squared_log_error\n",
    "\n",
    "#  Error Cuadrático Medio \n",
    "def mse (sr,df):\n",
    "    n=len(df)\n",
    "    return sr/n\n",
    "\n",
    "resultado_mse=mse(sr,df)\n",
    "\n",
    "mse = mean_squared_error(df['y'], df['Y_hat'])\n",
    "\n",
    "print(f'resultado del MSE propio :{resultado_mse} y con sklearn {mse}')\n"
   ]
  },
  {
   "cell_type": "code",
   "execution_count": 29,
   "metadata": {},
   "outputs": [
    {
     "name": "stdout",
     "output_type": "stream",
     "text": [
      "resultado del RMSE propio :1.918806507070695 y con sklearn 1.918806507070695\n"
     ]
    }
   ],
   "source": [
    "#  Raíz del Error Cuadrático Medio  \n",
    "\n",
    "def RMSE (mse):\n",
    "    return mse ** 0.5\n",
    "\n",
    "resultado_RMSE=RMSE(resultado_mse)\n",
    "rmse = mean_squared_error(df['y'], df['Y_hat'], squared=False)\n",
    "\n",
    "print(f'resultado del RMSE propio :{resultado_RMSE} y con sklearn {rmse}')"
   ]
  },
  {
   "cell_type": "code",
   "execution_count": 30,
   "metadata": {},
   "outputs": [
    {
     "name": "stdout",
     "output_type": "stream",
     "text": [
      "resultado del MAE propio :3.681818411576841 y con sklearn 1.5870814560524178\n"
     ]
    }
   ],
   "source": [
    "# Error Absoluto Medio  Calcular MAE\n",
    "\n",
    "\n",
    "def MAE (df):\n",
    "    n=len(df)\n",
    "    mae=(df['error absoluto'].sum())/n\n",
    "    return mae\n",
    "\n",
    "resultado_mae=MAE(df)\n",
    "mae = mean_absolute_error(df['y'], df['Y_hat'])\n",
    "print(f'resultado del MAE propio :{resultado_mae} y con sklearn {mae}')\n"
   ]
  },
  {
   "cell_type": "code",
   "execution_count": 31,
   "metadata": {},
   "outputs": [
    {
     "name": "stdout",
     "output_type": "stream",
     "text": [
      "R^2: 0.9823756204076801\n"
     ]
    }
   ],
   "source": [
    "r2 = r2_score(df['y'], df['Y_hat'])\n",
    "print(f\"R^2: {r2}\")"
   ]
  }
 ],
 "metadata": {
  "kernelspec": {
   "display_name": "Python 3",
   "language": "python",
   "name": "python3"
  },
  "language_info": {
   "codemirror_mode": {
    "name": "ipython",
    "version": 3
   },
   "file_extension": ".py",
   "mimetype": "text/x-python",
   "name": "python",
   "nbconvert_exporter": "python",
   "pygments_lexer": "ipython3",
   "version": "3.11.3"
  }
 },
 "nbformat": 4,
 "nbformat_minor": 2
}
