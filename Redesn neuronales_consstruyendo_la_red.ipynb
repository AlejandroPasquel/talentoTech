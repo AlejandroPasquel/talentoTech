{
 "cells": [
  {
   "cell_type": "code",
   "execution_count": 1,
   "metadata": {},
   "outputs": [],
   "source": [
    "from ucimlrepo import fetch_ucirepo \n",
    "from sklearn.model_selection import train_test_split\n",
    "  \n",
    "# Se descarga el dataset del repocitorio UCI con el identificador =45\n",
    "heart_disease = fetch_ucirepo(id=45) \n",
    "  \n",
    "# Se obtienen las caracteristicas almacenadas en un dataframe de pandas X \n",
    "X = heart_disease.data.features \n",
    "\n",
    "#Se obtienen las etiquetas en un Dataframe de pandas y\n",
    "y = heart_disease.data.targets \n",
    "\n",
    "\n",
    "\n",
    "\n",
    "\n",
    "\n",
    "x_train, x_val, y_train, y_val = train_test_split(\n",
    "    X, y, test_size=0.2, random_state=20,\n",
    "    stratify=y)"
   ]
  },
  {
   "cell_type": "code",
   "execution_count": 2,
   "metadata": {},
   "outputs": [
    {
     "data": {
      "text/plain": [
       "(242, 13)"
      ]
     },
     "execution_count": 2,
     "metadata": {},
     "output_type": "execute_result"
    }
   ],
   "source": [
    "x_train.shape"
   ]
  },
  {
   "cell_type": "code",
   "execution_count": null,
   "metadata": {},
   "outputs": [],
   "source": []
  },
  {
   "cell_type": "code",
   "execution_count": 3,
   "metadata": {},
   "outputs": [],
   "source": [
    "import numpy as np\n",
    "\n",
    "def inicializar_parametros(input_size,neuronas):\n",
    "\n",
    "    w1=np.random.randn(neuronas[0],input_size)*0.001  \n",
    "    b1=np.zeros((neuronas[0],1)) \n",
    "    w2=np.random.randn(neuronas[1],neuronas[0])*0.001\n",
    "    b2=np.zeros((neuronas[1],1))\n",
    "    \n",
    "    return {'w1':w1,'b1':b1,'w2':w2,'b2':b2}\n",
    "\n",
    " #w1.shappe -->   neurons[0],input_size "
   ]
  },
  {
   "cell_type": "code",
   "execution_count": 4,
   "metadata": {},
   "outputs": [
    {
     "name": "stdout",
     "output_type": "stream",
     "text": [
      "(50, 13)\n",
      "(50, 1)\n",
      "(5, 50)\n",
      "(5, 1)\n"
     ]
    }
   ],
   "source": [
    "parametros= inicializar_parametros(13,[50,5])\n",
    "print(parametros['w1'].shape)\n",
    "print(parametros['b1'].shape)\n",
    "print(parametros['w2'].shape)\n",
    "print(parametros['b2'].shape)"
   ]
  },
  {
   "cell_type": "code",
   "execution_count": 5,
   "metadata": {},
   "outputs": [],
   "source": [
    "def relu(x):\n",
    "    return np.maximum(0,x)  \n",
    "\n"
   ]
  },
  {
   "cell_type": "code",
   "execution_count": 6,
   "metadata": {},
   "outputs": [],
   "source": [
    "# funcion paa la ecuacion Z=WX+b\n",
    "#x.shape--> (input_size,numero_de_ejemplos)\n",
    "def scores(x,parametros,activacion_fcn):  \n",
    "    'se debemos pasar X transpuesta para poder realziar la multiplicacion'\n",
    "    z1=parametros['w1'] @ x + parametros['b1']    \n",
    "    a1=activacion_fcn(z1)\n",
    "    z2=parametros['w2'] @ a1 + parametros['b2']  \n",
    "    return z2,z1,a1 \n"
   ]
  },
  {
   "cell_type": "code",
   "execution_count": 7,
   "metadata": {},
   "outputs": [
    {
     "name": "stdout",
     "output_type": "stream",
     "text": [
      "(64, 13)\n",
      "(13, 64)\n",
      "(50, 64)\n",
      "(50, 64)\n",
      "(5, 64)\n"
     ]
    }
   ],
   "source": [
    "scores2,z1,a1=scores(x_train[:64].T,parametros,relu)   # se aplica transpuesta a x_train para poder multiplicar con W \n",
    "\n",
    "\n",
    "print(x_train[:64].shape)  \n",
    "print(x_train[:64].T.shape)  \n",
    "\n",
    "print(z1.shape)\n",
    "print(a1.shape)\n",
    "print(scores2.shape)  "
   ]
  },
  {
   "cell_type": "code",
   "execution_count": 8,
   "metadata": {},
   "outputs": [],
   "source": [
    "\n",
    "def softmax(x):\n",
    "    exp_scores=np.exp(x)  \n",
    "    sum_exp_scores=np.sum(exp_scores,axis=0)  \n",
    "    probs=exp_scores/sum_exp_scores #\n",
    "    return probs  # es un arreglo de (5,64) pero en este caso sus elementos son probailidades"
   ]
  },
  {
   "cell_type": "code",
   "execution_count": 9,
   "metadata": {},
   "outputs": [
    {
     "ename": "SyntaxError",
     "evalue": "incomplete input (3395729003.py, line 5)",
     "output_type": "error",
     "traceback": [
      "\u001b[1;36m  Cell \u001b[1;32mIn[9], line 5\u001b[1;36m\u001b[0m\n\u001b[1;33m    #backward, accuracy , train\u001b[0m\n\u001b[1;37m                                   ^\u001b[0m\n\u001b[1;31mSyntaxError\u001b[0m\u001b[1;31m:\u001b[0m incomplete input\n"
     ]
    }
   ],
   "source": [
    "def cross_entropy():  y-y_hat\n",
    "\n",
    "\n",
    "\n",
    "#backward, accuracy , train    \n"
   ]
  }
 ],
 "metadata": {
  "kernelspec": {
   "display_name": "Python 3",
   "language": "python",
   "name": "python3"
  },
  "language_info": {
   "codemirror_mode": {
    "name": "ipython",
    "version": 3
   },
   "file_extension": ".py",
   "mimetype": "text/x-python",
   "name": "python",
   "nbconvert_exporter": "python",
   "pygments_lexer": "ipython3",
   "version": "3.11.3"
  }
 },
 "nbformat": 4,
 "nbformat_minor": 2
}
